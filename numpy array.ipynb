{
 "cells": [
  {
   "cell_type": "markdown",
   "id": "bdb02dd2",
   "metadata": {},
   "source": [
    "# NUMPY"
   ]
  },
  {
   "cell_type": "code",
   "execution_count": 1,
   "id": "eccb0b7c",
   "metadata": {},
   "outputs": [],
   "source": [
    "import numpy as np"
   ]
  },
  {
   "cell_type": "code",
   "execution_count": 2,
   "id": "c1901fe7",
   "metadata": {},
   "outputs": [
    {
     "data": {
      "text/plain": [
       "array([8, 5, 6, 2])"
      ]
     },
     "execution_count": 2,
     "metadata": {},
     "output_type": "execute_result"
    }
   ],
   "source": [
    "np.array([8,5,6,2])"
   ]
  },
  {
   "cell_type": "code",
   "execution_count": 3,
   "id": "9143d3bc",
   "metadata": {},
   "outputs": [
    {
     "data": {
      "text/plain": [
       "list"
      ]
     },
     "execution_count": 3,
     "metadata": {},
     "output_type": "execute_result"
    }
   ],
   "source": [
    "type([8,5,6,2])"
   ]
  },
  {
   "cell_type": "code",
   "execution_count": 4,
   "id": "f88dc5a4",
   "metadata": {},
   "outputs": [
    {
     "name": "stdout",
     "output_type": "stream",
     "text": [
      "type- int32\n",
      "\n",
      " **************************************************\n",
      "\n",
      " [1 2 3 4 6]\n"
     ]
    }
   ],
   "source": [
    "a=np.array([1,2,3,4,6])\n",
    "print(\"type-\",a.dtype)\n",
    "print('\\n','*'*50)\n",
    "print('\\n',a)"
   ]
  },
  {
   "cell_type": "code",
   "execution_count": 5,
   "id": "c7336352",
   "metadata": {},
   "outputs": [],
   "source": [
    "a=np.array([1,2,3,4,5,6],dtype=float)"
   ]
  },
  {
   "cell_type": "code",
   "execution_count": 6,
   "id": "adde1479",
   "metadata": {},
   "outputs": [
    {
     "data": {
      "text/plain": [
       "array([1., 2., 3., 4., 5., 6.])"
      ]
     },
     "execution_count": 6,
     "metadata": {},
     "output_type": "execute_result"
    }
   ],
   "source": [
    "a"
   ]
  },
  {
   "cell_type": "code",
   "execution_count": null,
   "id": "d02c9d88",
   "metadata": {},
   "outputs": [],
   "source": []
  },
  {
   "cell_type": "code",
   "execution_count": 7,
   "id": "a1f7076b",
   "metadata": {},
   "outputs": [],
   "source": [
    "a=[1,2,3,4,5]\n",
    "b=np.array(a)"
   ]
  },
  {
   "cell_type": "code",
   "execution_count": 8,
   "id": "aa64410c",
   "metadata": {},
   "outputs": [
    {
     "name": "stdout",
     "output_type": "stream",
     "text": [
      "[1 2 3 4 5]\n"
     ]
    }
   ],
   "source": [
    "print(b)"
   ]
  },
  {
   "cell_type": "code",
   "execution_count": 9,
   "id": "95331e61",
   "metadata": {},
   "outputs": [
    {
     "name": "stdout",
     "output_type": "stream",
     "text": [
      "[1 2 3 4 5]\n"
     ]
    }
   ],
   "source": [
    "c=np.asarray(b)\n",
    "print(c)\n"
   ]
  },
  {
   "cell_type": "code",
   "execution_count": 10,
   "id": "b35c5532",
   "metadata": {},
   "outputs": [],
   "source": [
    "my_mat=([1,2,3],[4,5,6],[7,8,9])"
   ]
  },
  {
   "cell_type": "code",
   "execution_count": 11,
   "id": "4d042933",
   "metadata": {},
   "outputs": [],
   "source": [
    "mat=np.array(my_mat)\n"
   ]
  },
  {
   "cell_type": "code",
   "execution_count": 12,
   "id": "770abd93",
   "metadata": {},
   "outputs": [
    {
     "name": "stdout",
     "output_type": "stream",
     "text": [
      "type\\class of the object: <class 'numpy.ndarray'>\n",
      "dimension of the matrix :2\n",
      "size of the matrix :9\n",
      "shape of the matrix :(3, 3)\n",
      "datatype of the matrix :int32\n",
      "Here is the matrix \n",
      " [[1 2 3]\n",
      " [4 5 6]\n",
      " [7 8 9]]\n"
     ]
    }
   ],
   "source": [
    "print(\"type\\class of the object:\",type(mat))\n",
    "print(\"dimension of the matrix :\",mat.ndim,sep=\"\")\n",
    "print(\"size of the matrix :\",mat.size,sep=\"\")\n",
    "print(\"shape of the matrix :\",mat.shape,sep=\"\")\n",
    "print(\"datatype of the matrix :\",mat.dtype,sep=\"\")\n",
    "print(\"Here is the matrix\",\"\\n\",(mat))\n"
   ]
  },
  {
   "cell_type": "markdown",
   "id": "58b80aa1",
   "metadata": {},
   "source": [
    "# arange and linspace"
   ]
  },
  {
   "cell_type": "markdown",
   "id": "728374dc",
   "metadata": {},
   "source": [
    "# arange"
   ]
  },
  {
   "cell_type": "code",
   "execution_count": 13,
   "id": "73f12335",
   "metadata": {},
   "outputs": [
    {
     "name": "stdout",
     "output_type": "stream",
     "text": [
      "[1, 2, 3, 4, 5]\n"
     ]
    }
   ],
   "source": [
    "print(a)"
   ]
  },
  {
   "cell_type": "code",
   "execution_count": 14,
   "id": "264ab3fe",
   "metadata": {},
   "outputs": [
    {
     "data": {
      "text/plain": [
       "[5, 4, 3, 2, 1]"
      ]
     },
     "execution_count": 14,
     "metadata": {},
     "output_type": "execute_result"
    }
   ],
   "source": [
    "a[::-1]"
   ]
  },
  {
   "cell_type": "code",
   "execution_count": 15,
   "id": "3a1babdb",
   "metadata": {},
   "outputs": [
    {
     "name": "stdout",
     "output_type": "stream",
     "text": [
      "every 5th numbers from 50 in reverse order \n",
      "\n",
      "[50 45 40 35 30 25 20 15 10  5]\n"
     ]
    }
   ],
   "source": [
    "print(\"every 5th numbers from 50 in reverse order \\n\")\n",
    "a=np.arange(50,0,-5)\n",
    "print(a)"
   ]
  },
  {
   "cell_type": "code",
   "execution_count": 16,
   "id": "3d79cac5",
   "metadata": {},
   "outputs": [],
   "source": [
    "a=np.arange(2,10.5,.3)"
   ]
  },
  {
   "cell_type": "code",
   "execution_count": 17,
   "id": "b7f64086",
   "metadata": {},
   "outputs": [
    {
     "data": {
      "text/plain": [
       "array([ 2. ,  2.3,  2.6,  2.9,  3.2,  3.5,  3.8,  4.1,  4.4,  4.7,  5. ,\n",
       "        5.3,  5.6,  5.9,  6.2,  6.5,  6.8,  7.1,  7.4,  7.7,  8. ,  8.3,\n",
       "        8.6,  8.9,  9.2,  9.5,  9.8, 10.1, 10.4])"
      ]
     },
     "execution_count": 17,
     "metadata": {},
     "output_type": "execute_result"
    }
   ],
   "source": [
    "a"
   ]
  },
  {
   "cell_type": "markdown",
   "id": "9ad34cf7",
   "metadata": {},
   "source": [
    "# linspace"
   ]
  },
  {
   "cell_type": "code",
   "execution_count": 18,
   "id": "c8d38059",
   "metadata": {},
   "outputs": [
    {
     "name": "stdout",
     "output_type": "stream",
     "text": [
      "linear spaced numbers between 1and10 \n",
      "**************************\n",
      "[100.          94.44444444  88.88888889  83.33333333  77.77777778\n",
      "  72.22222222  66.66666667  61.11111111  55.55555556  50.        ]\n"
     ]
    }
   ],
   "source": [
    "print(\"linear spaced numbers between 1and10 \\n**************************\")\n",
    "print(np.linspace(100,50,10))"
   ]
  },
  {
   "cell_type": "code",
   "execution_count": 19,
   "id": "1f878d62",
   "metadata": {},
   "outputs": [
    {
     "data": {
      "text/plain": [
       "(array([5. , 5.4, 5.8, 6.2, 6.6, 7. , 7.4, 7.8, 8.2, 8.6]), 0.4)"
      ]
     },
     "execution_count": 19,
     "metadata": {},
     "output_type": "execute_result"
    }
   ],
   "source": [
    "np.linspace(5,9,num=10,endpoint=False,retstep=True)\n"
   ]
  },
  {
   "cell_type": "code",
   "execution_count": 20,
   "id": "f350aef5",
   "metadata": {},
   "outputs": [
    {
     "data": {
      "text/plain": [
       "array([2.        , 2.11111111, 2.22222222, 2.33333333, 2.44444444,\n",
       "       2.55555556, 2.66666667, 2.77777778, 2.88888889, 3.        ])"
      ]
     },
     "execution_count": 20,
     "metadata": {},
     "output_type": "execute_result"
    }
   ],
   "source": [
    "np.linspace(2.0,3.0,num=10)"
   ]
  },
  {
   "cell_type": "code",
   "execution_count": 21,
   "id": "ae3005ce",
   "metadata": {},
   "outputs": [
    {
     "data": {
      "text/plain": [
       "array([2. , 2.1, 2.2, 2.3, 2.4, 2.5, 2.6, 2.7, 2.8, 2.9])"
      ]
     },
     "execution_count": 21,
     "metadata": {},
     "output_type": "execute_result"
    }
   ],
   "source": [
    "np.linspace(2.0,3.0,num=10,endpoint=False)"
   ]
  },
  {
   "cell_type": "code",
   "execution_count": 22,
   "id": "ecc459a5",
   "metadata": {},
   "outputs": [
    {
     "data": {
      "text/plain": [
       "(array([2. , 2.1, 2.2, 2.3, 2.4, 2.5, 2.6, 2.7, 2.8, 2.9]), 0.1)"
      ]
     },
     "execution_count": 22,
     "metadata": {},
     "output_type": "execute_result"
    }
   ],
   "source": [
    "np.linspace(2.0,3.0,num=10,endpoint=False,retstep=True)"
   ]
  },
  {
   "cell_type": "code",
   "execution_count": 23,
   "id": "7160fb6b",
   "metadata": {},
   "outputs": [
    {
     "data": {
      "text/plain": [
       "array([ 2.,  4.,  6.,  8., 10.])"
      ]
     },
     "execution_count": 23,
     "metadata": {},
     "output_type": "execute_result"
    }
   ],
   "source": [
    "np.linspace(2,10,5)"
   ]
  },
  {
   "cell_type": "markdown",
   "id": "f204f5cd",
   "metadata": {},
   "source": [
    "# matrix creation"
   ]
  },
  {
   "cell_type": "code",
   "execution_count": 24,
   "id": "39f8bb92",
   "metadata": {},
   "outputs": [
    {
     "name": "stdout",
     "output_type": "stream",
     "text": [
      "vectors of zeros\n",
      "-------------\n",
      "[0. 0. 0. 0. 0. 0. 0. 0. 0. 0.]\n"
     ]
    }
   ],
   "source": [
    "print(\"vectors of zeros\\n-------------\")\n",
    "print(np.zeros(10))"
   ]
  },
  {
   "cell_type": "code",
   "execution_count": 25,
   "id": "9e3e84c2",
   "metadata": {},
   "outputs": [
    {
     "name": "stdout",
     "output_type": "stream",
     "text": [
      "vectors of zeros \n",
      "--------------------------\n",
      "[[0. 0. 0. 0. 0. 0.]\n",
      " [0. 0. 0. 0. 0. 0.]\n",
      " [0. 0. 0. 0. 0. 0.]\n",
      " [0. 0. 0. 0. 0. 0.]\n",
      " [0. 0. 0. 0. 0. 0.]]\n",
      "\n",
      "-------------------------------------\n"
     ]
    }
   ],
   "source": [
    "print(\"vectors of zeros \\n--------------------------\")\n",
    "print(np.zeros((5,6)))\n",
    "print(\"\\n-------------------------------------\")"
   ]
  },
  {
   "cell_type": "code",
   "execution_count": 26,
   "id": "55b2d416",
   "metadata": {},
   "outputs": [
    {
     "name": "stdout",
     "output_type": "stream",
     "text": [
      "matrix of ones \n",
      "---------------------------------\n",
      "[[1. 1. 1. 1. 1. 1.]\n",
      " [1. 1. 1. 1. 1. 1.]\n",
      " [1. 1. 1. 1. 1. 1.]\n",
      " [1. 1. 1. 1. 1. 1.]\n",
      " [1. 1. 1. 1. 1. 1.]]\n",
      "\n",
      "---------------------------------------\n"
     ]
    }
   ],
   "source": [
    "print(\"matrix of ones \\n---------------------------------\")\n",
    "print(np.ones((5,6)))\n",
    "print(\"\\n---------------------------------------\")"
   ]
  },
  {
   "cell_type": "code",
   "execution_count": 27,
   "id": "96340822",
   "metadata": {},
   "outputs": [
    {
     "name": "stdout",
     "output_type": "stream",
     "text": [
      "matrix of 5's\n",
      "=====================================\n",
      "[[5. 5. 5. 5. 5. 5.]\n",
      " [5. 5. 5. 5. 5. 5.]\n",
      " [5. 5. 5. 5. 5. 5.]\n",
      " [5. 5. 5. 5. 5. 5.]\n",
      " [5. 5. 5. 5. 5. 5.]]\n"
     ]
    }
   ],
   "source": [
    "print(\"matrix of 5's\\n=====================================\")\n",
    "print(5*np.ones((5,6)))"
   ]
  },
  {
   "cell_type": "markdown",
   "id": "e3ffd94f",
   "metadata": {},
   "source": [
    "# Reshape"
   ]
  },
  {
   "cell_type": "code",
   "execution_count": 28,
   "id": "2075eeba",
   "metadata": {},
   "outputs": [],
   "source": [
    "x=np.arange(30).reshape(3,10)"
   ]
  },
  {
   "cell_type": "code",
   "execution_count": 29,
   "id": "0fc583ba",
   "metadata": {},
   "outputs": [
    {
     "name": "stdout",
     "output_type": "stream",
     "text": [
      "[[ 0  1  2  3  4  5  6  7  8  9]\n",
      " [10 11 12 13 14 15 16 17 18 19]\n",
      " [20 21 22 23 24 25 26 27 28 29]]\n"
     ]
    }
   ],
   "source": [
    "print(x)"
   ]
  },
  {
   "cell_type": "code",
   "execution_count": 30,
   "id": "a53ca533",
   "metadata": {},
   "outputs": [
    {
     "data": {
      "text/plain": [
       "array([[ 0,  1,  2,  3,  4,  5,  6,  7],\n",
       "       [ 8,  9, 10, 11, 12, 13, 14, 15],\n",
       "       [16, 17, 18, 19, 20, 21, 22, 23],\n",
       "       [24, 25, 26, 27, 28, 29, 30, 31],\n",
       "       [32, 33, 34, 35, 36, 37, 38, 39],\n",
       "       [40, 41, 42, 43, 44, 45, 46, 47],\n",
       "       [48, 49, 50, 51, 52, 53, 54, 55],\n",
       "       [56, 57, 58, 59, 60, 61, 62, 63]])"
      ]
     },
     "execution_count": 30,
     "metadata": {},
     "output_type": "execute_result"
    }
   ],
   "source": [
    " np.arange(64).reshape(8,8)"
   ]
  },
  {
   "cell_type": "code",
   "execution_count": 31,
   "id": "4355e994",
   "metadata": {},
   "outputs": [
    {
     "name": "stdout",
     "output_type": "stream",
     "text": [
      "Here is the int \n",
      "==================================================\n",
      "\n",
      "===================================================\n"
     ]
    },
    {
     "data": {
      "text/plain": [
       "(array([[ 0,  1,  2,  3,  4,  5,  6,  7,  8,  9],\n",
       "        [10, 11, 12, 13, 14, 15, 16, 17, 18, 19],\n",
       "        [20, 21, 22, 23, 24, 25, 26, 27, 28, 29],\n",
       "        [30, 31, 32, 33, 34, 35, 36, 37, 38, 39],\n",
       "        [40, 41, 42, 43, 44, 45, 46, 47, 48, 49],\n",
       "        [50, 51, 52, 53, 54, 55, 56, 57, 58, 59]]),\n",
       " None)"
      ]
     },
     "execution_count": 31,
     "metadata": {},
     "output_type": "execute_result"
    }
   ],
   "source": [
    "print(\"Here is the int \\n==================================================\")\n",
    "\n",
    "np.arange(60).reshape(6,10),print(\"\\n===================================================\")\n"
   ]
  },
  {
   "cell_type": "markdown",
   "id": "9e23572f",
   "metadata": {},
   "source": [
    "# Random and generation"
   ]
  },
  {
   "cell_type": "code",
   "execution_count": 32,
   "id": "d039f5fa",
   "metadata": {},
   "outputs": [],
   "source": [
    "import numpy as np"
   ]
  },
  {
   "cell_type": "code",
   "execution_count": 33,
   "id": "a11bc9a0",
   "metadata": {},
   "outputs": [
    {
     "data": {
      "text/plain": [
       "array([[0.31534032, 0.36294602, 0.73717973, 0.47540045, 0.70082295],\n",
       "       [0.64140222, 0.86237451, 0.83918326, 0.92769003, 0.10233947],\n",
       "       [0.76059106, 0.38603088, 0.53141168, 0.66865468, 0.36530519],\n",
       "       [0.21152967, 0.33234458, 0.77242067, 0.1654836 , 0.48200418],\n",
       "       [0.79488974, 0.03525784, 0.55093827, 0.39570223, 0.30877203],\n",
       "       [0.05199661, 0.40302776, 0.96411971, 0.87415352, 0.32254697],\n",
       "       [0.14558291, 0.7339873 , 0.30745141, 0.76349091, 0.59879045],\n",
       "       [0.93495406, 0.86440631, 0.67207249, 0.26797294, 0.74717905],\n",
       "       [0.40893687, 0.70683876, 0.25660555, 0.3298783 , 0.59189527],\n",
       "       [0.09235508, 0.50948263, 0.77062665, 0.8544749 , 0.88766331]])"
      ]
     },
     "execution_count": 33,
     "metadata": {},
     "output_type": "execute_result"
    }
   ],
   "source": [
    "np.random.rand(10,5)"
   ]
  },
  {
   "cell_type": "code",
   "execution_count": 34,
   "id": "a42047aa",
   "metadata": {},
   "outputs": [],
   "source": [
    "import random"
   ]
  },
  {
   "cell_type": "code",
   "execution_count": 35,
   "id": "ff395780",
   "metadata": {},
   "outputs": [
    {
     "name": "stdout",
     "output_type": "stream",
     "text": [
      "random integers vectors: [ 5 17 14  9 14 11 18 12 11  6]\n"
     ]
    }
   ],
   "source": [
    "print(\"random integers vectors:\",np.random.randint(5,20,10))"
   ]
  },
  {
   "cell_type": "code",
   "execution_count": 36,
   "id": "84ab7426",
   "metadata": {},
   "outputs": [
    {
     "data": {
      "text/plain": [
       "array([18, 19, 15, 19, 19, 12, 17,  8, 10, 10])"
      ]
     },
     "execution_count": 36,
     "metadata": {},
     "output_type": "execute_result"
    }
   ],
   "source": [
    "np.random.randint(5,20,10)"
   ]
  },
  {
   "cell_type": "code",
   "execution_count": 37,
   "id": "d83f8889",
   "metadata": {},
   "outputs": [],
   "source": [
    "np.random.seed(3)"
   ]
  },
  {
   "cell_type": "code",
   "execution_count": 38,
   "id": "ab173973",
   "metadata": {},
   "outputs": [
    {
     "data": {
      "text/plain": [
       "array([[0.5507979 , 0.70814782, 0.29090474, 0.51082761, 0.89294695,\n",
       "        0.89629309, 0.12558531, 0.20724288, 0.0514672 , 0.44080984],\n",
       "       [0.02987621, 0.45683322, 0.64914405, 0.27848728, 0.6762549 ,\n",
       "        0.59086282, 0.02398188, 0.55885409, 0.25925245, 0.4151012 ],\n",
       "       [0.28352508, 0.69313792, 0.44045372, 0.15686774, 0.54464902,\n",
       "        0.78031476, 0.30636353, 0.22195788, 0.38797126, 0.93638365],\n",
       "       [0.97599542, 0.67238368, 0.90283411, 0.84575087, 0.37799404,\n",
       "        0.09221701, 0.6534109 , 0.55784076, 0.36156476, 0.2250545 ],\n",
       "       [0.40651992, 0.46894025, 0.26923558, 0.29179277, 0.4576864 ,\n",
       "        0.86053391, 0.5862529 , 0.28348786, 0.27797751, 0.45462208]])"
      ]
     },
     "execution_count": 38,
     "metadata": {},
     "output_type": "execute_result"
    }
   ],
   "source": [
    "np.random.rand(5,10)"
   ]
  },
  {
   "cell_type": "code",
   "execution_count": 39,
   "id": "3ce3e5e9",
   "metadata": {},
   "outputs": [],
   "source": [
    "import numpy as np"
   ]
  },
  {
   "cell_type": "code",
   "execution_count": 40,
   "id": "4cfb0cf3",
   "metadata": {},
   "outputs": [
    {
     "name": "stdout",
     "output_type": "stream",
     "text": [
      "random under generation\n",
      "[[0.96702984 0.54723225 0.97268436 0.71481599 0.69772882 0.2160895 ]\n",
      " [0.97627445 0.00623026 0.25298236 0.43479153 0.77938292 0.19768507]\n",
      " [0.86299324 0.98340068 0.16384224 0.59733394 0.0089861  0.38657128]\n",
      " [0.04416006 0.95665297 0.43614665 0.94897731 0.78630599 0.8662893 ]\n",
      " [0.17316542 0.07494859 0.60074272 0.16797218 0.73338017 0.40844386]]\n"
     ]
    }
   ],
   "source": [
    "np.random.seed(4)\n",
    "print(\"random under generation\")\n",
    "print(np.random.rand(5,6))"
   ]
  },
  {
   "cell_type": "code",
   "execution_count": 41,
   "id": "bcb2e3a7",
   "metadata": {},
   "outputs": [
    {
     "name": "stdout",
     "output_type": "stream",
     "text": [
      "\n",
      " randon integer matrix\n",
      "[[26 19 18 17 18 26 10]\n",
      " [28 17 13 24 19 23  4]\n",
      " [12 24 25 19  7  8 14]\n",
      " [11  8 10 19 24 22 20]\n",
      " [17 22 16  5 28 28 12]\n",
      " [20  9 26  6  9 28 27]]\n"
     ]
    }
   ],
   "source": [
    "print(\"\\n randon integer matrix\")\n",
    "print(np.random.randint(1,30,(6,7)))"
   ]
  },
  {
   "cell_type": "markdown",
   "id": "5b5b15b4",
   "metadata": {},
   "source": [
    "# NUMPY CONDITION"
   ]
  },
  {
   "cell_type": "code",
   "execution_count": 42,
   "id": "78b15546",
   "metadata": {},
   "outputs": [],
   "source": [
    "salary=np.random.randint(7,70,10)"
   ]
  },
  {
   "cell_type": "code",
   "execution_count": 43,
   "id": "3a8fa8f4",
   "metadata": {},
   "outputs": [
    {
     "data": {
      "text/plain": [
       "array([68, 61, 46, 39, 37, 11, 61, 18, 15, 43])"
      ]
     },
     "execution_count": 43,
     "metadata": {},
     "output_type": "execute_result"
    }
   ],
   "source": [
    "salary"
   ]
  },
  {
   "cell_type": "code",
   "execution_count": 44,
   "id": "ac74b0cf",
   "metadata": {},
   "outputs": [
    {
     "data": {
      "text/plain": [
       "array([40, 40, 40, 39, 37, 20, 40, 20, 20, 40])"
      ]
     },
     "execution_count": 44,
     "metadata": {},
     "output_type": "execute_result"
    }
   ],
   "source": [
    "#set minimum and maximum salary using a-min and a-max\n",
    "np.clip(salary,20,40)"
   ]
  },
  {
   "cell_type": "code",
   "execution_count": 45,
   "id": "8d7710c9",
   "metadata": {},
   "outputs": [
    {
     "data": {
      "text/plain": [
       "array([50, 50, 46, 40, 40, 40, 50, 40, 40, 43])"
      ]
     },
     "execution_count": 45,
     "metadata": {},
     "output_type": "execute_result"
    }
   ],
   "source": [
    "np.clip (salary,40,50)"
   ]
  },
  {
   "cell_type": "code",
   "execution_count": 46,
   "id": "78c5fba8",
   "metadata": {},
   "outputs": [],
   "source": [
    "r=np.where(salary>50)"
   ]
  },
  {
   "cell_type": "code",
   "execution_count": 47,
   "id": "f42038f7",
   "metadata": {},
   "outputs": [
    {
     "data": {
      "text/plain": [
       "(array([0, 1, 6], dtype=int64),)"
      ]
     },
     "execution_count": 47,
     "metadata": {},
     "output_type": "execute_result"
    }
   ],
   "source": [
    "r"
   ]
  },
  {
   "cell_type": "code",
   "execution_count": 48,
   "id": "d1de2422",
   "metadata": {},
   "outputs": [],
   "source": [
    "r=np.where(salary<40)"
   ]
  },
  {
   "cell_type": "code",
   "execution_count": 49,
   "id": "f92d69ef",
   "metadata": {},
   "outputs": [
    {
     "data": {
      "text/plain": [
       "(array([3, 4, 5, 7, 8], dtype=int64),)"
      ]
     },
     "execution_count": 49,
     "metadata": {},
     "output_type": "execute_result"
    }
   ],
   "source": [
    "r"
   ]
  },
  {
   "cell_type": "code",
   "execution_count": 50,
   "id": "4260033e",
   "metadata": {},
   "outputs": [],
   "source": [
    "r=np.where(salary==30)"
   ]
  },
  {
   "cell_type": "code",
   "execution_count": 51,
   "id": "007d2e4e",
   "metadata": {},
   "outputs": [
    {
     "data": {
      "text/plain": [
       "(array([], dtype=int64),)"
      ]
     },
     "execution_count": 51,
     "metadata": {},
     "output_type": "execute_result"
    }
   ],
   "source": [
    "r"
   ]
  },
  {
   "cell_type": "markdown",
   "id": "28664da4",
   "metadata": {},
   "source": [
    "# Reshaping other ways"
   ]
  },
  {
   "cell_type": "code",
   "execution_count": 52,
   "id": "c8b8017c",
   "metadata": {},
   "outputs": [],
   "source": [
    "import numpy as np"
   ]
  },
  {
   "cell_type": "code",
   "execution_count": 53,
   "id": "964a58e5",
   "metadata": {},
   "outputs": [],
   "source": [
    "from numpy.random import randint as ri"
   ]
  },
  {
   "cell_type": "code",
   "execution_count": 54,
   "id": "773fe1e6",
   "metadata": {},
   "outputs": [],
   "source": [
    "a=ri(1,99,30)"
   ]
  },
  {
   "cell_type": "code",
   "execution_count": 55,
   "id": "f5293376",
   "metadata": {},
   "outputs": [
    {
     "data": {
      "text/plain": [
       "array([32, 41, 18, 79, 10, 54, 69, 63, 60,  4,  5, 40, 55, 71, 41, 97, 68,\n",
       "       54, 23, 18, 28, 98, 61, 44, 87, 16, 14,  1, 11,  8])"
      ]
     },
     "execution_count": 55,
     "metadata": {},
     "output_type": "execute_result"
    }
   ],
   "source": [
    "a"
   ]
  },
  {
   "cell_type": "code",
   "execution_count": 56,
   "id": "d00dc487",
   "metadata": {},
   "outputs": [
    {
     "data": {
      "text/plain": [
       "1"
      ]
     },
     "execution_count": 56,
     "metadata": {},
     "output_type": "execute_result"
    }
   ],
   "source": [
    "a.ndim"
   ]
  },
  {
   "cell_type": "code",
   "execution_count": 57,
   "id": "90426f91",
   "metadata": {},
   "outputs": [],
   "source": [
    "c=ri(1,99,(30))"
   ]
  },
  {
   "cell_type": "code",
   "execution_count": 58,
   "id": "870c8531",
   "metadata": {},
   "outputs": [
    {
     "data": {
      "text/plain": [
       "array([64, 80, 60, 53, 53, 65, 88, 98, 47, 43, 50, 32, 36, 31, 66,  4, 87,\n",
       "       75, 21, 81,  8, 52, 11, 42, 87, 16, 42,  4, 75, 24])"
      ]
     },
     "execution_count": 58,
     "metadata": {},
     "output_type": "execute_result"
    }
   ],
   "source": [
    "c"
   ]
  },
  {
   "cell_type": "code",
   "execution_count": 59,
   "id": "cf7f007f",
   "metadata": {},
   "outputs": [
    {
     "data": {
      "text/plain": [
       "1"
      ]
     },
     "execution_count": 59,
     "metadata": {},
     "output_type": "execute_result"
    }
   ],
   "source": [
    "c.ndim"
   ]
  },
  {
   "cell_type": "code",
   "execution_count": 60,
   "id": "11512fc5",
   "metadata": {},
   "outputs": [],
   "source": [
    "d=c.reshape(3,10)"
   ]
  },
  {
   "cell_type": "code",
   "execution_count": 61,
   "id": "819a9958",
   "metadata": {},
   "outputs": [
    {
     "data": {
      "text/plain": [
       "array([[64, 80, 60, 53, 53, 65, 88, 98, 47, 43],\n",
       "       [50, 32, 36, 31, 66,  4, 87, 75, 21, 81],\n",
       "       [ 8, 52, 11, 42, 87, 16, 42,  4, 75, 24]])"
      ]
     },
     "execution_count": 61,
     "metadata": {},
     "output_type": "execute_result"
    }
   ],
   "source": [
    "d"
   ]
  },
  {
   "cell_type": "code",
   "execution_count": 62,
   "id": "346684d3",
   "metadata": {},
   "outputs": [
    {
     "data": {
      "text/plain": [
       "array([[64, 80, 60],\n",
       "       [53, 53, 65],\n",
       "       [88, 98, 47],\n",
       "       [43, 50, 32],\n",
       "       [36, 31, 66],\n",
       "       [ 4, 87, 75],\n",
       "       [21, 81,  8],\n",
       "       [52, 11, 42],\n",
       "       [87, 16, 42],\n",
       "       [ 4, 75, 24]])"
      ]
     },
     "execution_count": 62,
     "metadata": {},
     "output_type": "execute_result"
    }
   ],
   "source": [
    "d.reshape(10,3)"
   ]
  },
  {
   "cell_type": "code",
   "execution_count": 63,
   "id": "63f3f651",
   "metadata": {},
   "outputs": [],
   "source": [
    "d=c.reshape(2,3,5)"
   ]
  },
  {
   "cell_type": "code",
   "execution_count": 64,
   "id": "77477058",
   "metadata": {},
   "outputs": [
    {
     "data": {
      "text/plain": [
       "array([[[64, 80, 60, 53, 53],\n",
       "        [65, 88, 98, 47, 43],\n",
       "        [50, 32, 36, 31, 66]],\n",
       "\n",
       "       [[ 4, 87, 75, 21, 81],\n",
       "        [ 8, 52, 11, 42, 87],\n",
       "        [16, 42,  4, 75, 24]]])"
      ]
     },
     "execution_count": 64,
     "metadata": {},
     "output_type": "execute_result"
    }
   ],
   "source": [
    "d"
   ]
  },
  {
   "cell_type": "code",
   "execution_count": 65,
   "id": "50ef5d45",
   "metadata": {},
   "outputs": [],
   "source": [
    "d=c.reshape(2,3,5)"
   ]
  },
  {
   "cell_type": "code",
   "execution_count": 66,
   "id": "39dafa8b",
   "metadata": {},
   "outputs": [
    {
     "data": {
      "text/plain": [
       "array([[[64, 80, 60, 53, 53],\n",
       "        [65, 88, 98, 47, 43],\n",
       "        [50, 32, 36, 31, 66]],\n",
       "\n",
       "       [[ 4, 87, 75, 21, 81],\n",
       "        [ 8, 52, 11, 42, 87],\n",
       "        [16, 42,  4, 75, 24]]])"
      ]
     },
     "execution_count": 66,
     "metadata": {},
     "output_type": "execute_result"
    }
   ],
   "source": [
    "d"
   ]
  },
  {
   "cell_type": "code",
   "execution_count": 67,
   "id": "1154ab8d",
   "metadata": {},
   "outputs": [
    {
     "data": {
      "text/plain": [
       "3"
      ]
     },
     "execution_count": 67,
     "metadata": {},
     "output_type": "execute_result"
    }
   ],
   "source": [
    "d.ndim"
   ]
  },
  {
   "cell_type": "markdown",
   "id": "f7ce332e",
   "metadata": {},
   "source": [
    "# sorting"
   ]
  },
  {
   "cell_type": "code",
   "execution_count": 68,
   "id": "0088be00",
   "metadata": {},
   "outputs": [
    {
     "name": "stdout",
     "output_type": "stream",
     "text": [
      "\n",
      " 5*5 matrix of random integers\n",
      " -------------------------------------------------- \n",
      " [[ 8 53 29 76 65]\n",
      " [38 33 26 38  6]\n",
      " [74 75 25 30 94]\n",
      " [37 62  3 20 81]\n",
      " [23 29 77 17 52]]\n"
     ]
    }
   ],
   "source": [
    "j=ri(1,100,25).reshape(5,5)\n",
    "print(\"\\n 5*5 matrix of random integers\\n\",'-'*50,\"\\n\",j)"
   ]
  },
  {
   "cell_type": "code",
   "execution_count": 69,
   "id": "7fe26ad2",
   "metadata": {},
   "outputs": [
    {
     "name": "stdout",
     "output_type": "stream",
     "text": [
      "\n",
      " here is the sorted matrix along each row\n",
      " -------------------------------------------------- \n",
      " [[ 8 29 53 65 76]\n",
      " [ 6 26 33 38 38]\n",
      " [25 30 74 75 94]\n",
      " [ 3 20 37 62 81]\n",
      " [17 23 29 52 77]]\n"
     ]
    }
   ],
   "source": [
    "print(\"\\n here is the sorted matrix along each row\\n\",'-'*50,\"\\n\",np.sort(j))"
   ]
  },
  {
   "cell_type": "code",
   "execution_count": 70,
   "id": "8641c95c",
   "metadata": {},
   "outputs": [
    {
     "name": "stdout",
     "output_type": "stream",
     "text": [
      "\n",
      " here is the sorted matrix along each coloumn\n",
      " -------------------------------------------------- \n",
      " [[ 8 29 53 65 76]\n",
      " [ 6 26 33 38 38]\n",
      " [25 30 74 75 94]\n",
      " [ 3 20 37 62 81]\n",
      " [17 23 29 52 77]]\n"
     ]
    }
   ],
   "source": [
    "print(\"\\n here is the sorted matrix along each coloumn\\n\",'-'*50,\"\\n\",np.sort(j))"
   ]
  },
  {
   "cell_type": "markdown",
   "id": "07d451dc",
   "metadata": {},
   "source": [
    "# Indexing and Slicing "
   ]
  },
  {
   "cell_type": "code",
   "execution_count": 71,
   "id": "4f8e2738",
   "metadata": {},
   "outputs": [
    {
     "name": "stdout",
     "output_type": "stream",
     "text": [
      "array: [13 14 15 16 17 18 19 20 21 22 23 24 25 26 27 28 29]\n"
     ]
    }
   ],
   "source": [
    "arr=np.arange(13,30)\n",
    "print(\"array:\",arr)\n"
   ]
  },
  {
   "cell_type": "code",
   "execution_count": 72,
   "id": "29781e1a",
   "metadata": {},
   "outputs": [
    {
     "name": "stdout",
     "output_type": "stream",
     "text": [
      "Elemrnt of the 7th index is: 20\n"
     ]
    }
   ],
   "source": [
    "print(\"Elemrnt of the 7th index is:\",arr[7])"
   ]
  },
  {
   "cell_type": "code",
   "execution_count": 73,
   "id": "94dd33ed",
   "metadata": {},
   "outputs": [
    {
     "data": {
      "text/plain": [
       "13"
      ]
     },
     "execution_count": 73,
     "metadata": {},
     "output_type": "execute_result"
    }
   ],
   "source": [
    "arr[0]"
   ]
  },
  {
   "cell_type": "markdown",
   "id": "a1b8bc7f",
   "metadata": {},
   "source": [
    "# SERIES OF VALUES"
   ]
  },
  {
   "cell_type": "code",
   "execution_count": 74,
   "id": "0990a2c3",
   "metadata": {},
   "outputs": [
    {
     "name": "stdout",
     "output_type": "stream",
     "text": [
      "elemnt from 3rd to 5th index are: [16 17 18]\n"
     ]
    }
   ],
   "source": [
    "print(\"elemnt from 3rd to 5th index are:\",arr[3:6])"
   ]
  },
  {
   "cell_type": "code",
   "execution_count": 75,
   "id": "423dc132",
   "metadata": {},
   "outputs": [
    {
     "name": "stdout",
     "output_type": "stream",
     "text": [
      "elements after the 4th index are: [17 18 19 20 21 22 23 24 25 26 27 28 29]\n"
     ]
    }
   ],
   "source": [
    "print(\"elements after the 4th index are:\",arr[4:])"
   ]
  },
  {
   "cell_type": "markdown",
   "id": "3988cb43",
   "metadata": {},
   "source": [
    "# NEGETIVE INDEX"
   ]
  },
  {
   "cell_type": "code",
   "execution_count": 76,
   "id": "3f88ea71",
   "metadata": {},
   "outputs": [
    {
     "data": {
      "text/plain": [
       "array([13, 14, 15, 16, 17, 18, 19, 20, 21, 22, 23, 24, 25, 26, 27, 28, 29])"
      ]
     },
     "execution_count": 76,
     "metadata": {},
     "output_type": "execute_result"
    }
   ],
   "source": [
    "arr"
   ]
  },
  {
   "cell_type": "code",
   "execution_count": 77,
   "id": "14047042",
   "metadata": {},
   "outputs": [
    {
     "name": "stdout",
     "output_type": "stream",
     "text": [
      "elemnets from last backwards are: [29 27 25 23 21 19 17 15 13]\n"
     ]
    }
   ],
   "source": [
    "print(\"elemnets from last backwards are:\",arr[-1::-2])"
   ]
  },
  {
   "cell_type": "code",
   "execution_count": 78,
   "id": "9d5bb3a2",
   "metadata": {},
   "outputs": [
    {
     "data": {
      "text/plain": [
       "array([], dtype=int32)"
      ]
     },
     "execution_count": 78,
     "metadata": {},
     "output_type": "execute_result"
    }
   ],
   "source": [
    "arr[-1:-6]"
   ]
  },
  {
   "cell_type": "code",
   "execution_count": 79,
   "id": "3c7aff62",
   "metadata": {},
   "outputs": [
    {
     "data": {
      "text/plain": [
       "array([24, 25, 26, 27, 28])"
      ]
     },
     "execution_count": 79,
     "metadata": {},
     "output_type": "execute_result"
    }
   ],
   "source": [
    "arr[-6:-1]"
   ]
  },
  {
   "cell_type": "code",
   "execution_count": 80,
   "id": "d12ce3cd",
   "metadata": {},
   "outputs": [
    {
     "data": {
      "text/plain": [
       "array([28, 25, 22, 19, 16, 13])"
      ]
     },
     "execution_count": 80,
     "metadata": {},
     "output_type": "execute_result"
    }
   ],
   "source": [
    "arr[-2::-3]"
   ]
  },
  {
   "cell_type": "code",
   "execution_count": 81,
   "id": "84a6b00b",
   "metadata": {},
   "outputs": [
    {
     "data": {
      "text/plain": [
       "array([29, 28, 27, 26, 25, 24, 23])"
      ]
     },
     "execution_count": 81,
     "metadata": {},
     "output_type": "execute_result"
    }
   ],
   "source": [
    "arr[-1:-8:-1]"
   ]
  },
  {
   "cell_type": "code",
   "execution_count": 82,
   "id": "3e286c86",
   "metadata": {},
   "outputs": [
    {
     "data": {
      "text/plain": [
       "array([27, 24, 21, 18, 15])"
      ]
     },
     "execution_count": 82,
     "metadata": {},
     "output_type": "execute_result"
    }
   ],
   "source": [
    "arr[-3:-16:-3]"
   ]
  },
  {
   "cell_type": "code",
   "execution_count": 83,
   "id": "a9fe0137",
   "metadata": {},
   "outputs": [],
   "source": [
    "arr=np.arange(0,21,2)"
   ]
  },
  {
   "cell_type": "code",
   "execution_count": 84,
   "id": "6b08ec8c",
   "metadata": {},
   "outputs": [
    {
     "data": {
      "text/plain": [
       "array([ 0,  2,  4,  6,  8, 10, 12, 14, 16, 18, 20])"
      ]
     },
     "execution_count": 84,
     "metadata": {},
     "output_type": "execute_result"
    }
   ],
   "source": [
    "arr"
   ]
  },
  {
   "cell_type": "code",
   "execution_count": 85,
   "id": "2702c5fa",
   "metadata": {},
   "outputs": [
    {
     "name": "stdout",
     "output_type": "stream",
     "text": [
      "elements at 2nd,4th and 9th index are: [ 4  8 18]\n"
     ]
    }
   ],
   "source": [
    "print(\"elements at 2nd,4th and 9th index are:\",arr[[2,4,9]])"
   ]
  },
  {
   "cell_type": "code",
   "execution_count": 86,
   "id": "4c9472ec",
   "metadata": {},
   "outputs": [],
   "source": [
    "my_mat=[[1,2,3,4],[5,6,7,8],[9,10,11,12]]"
   ]
  },
  {
   "cell_type": "code",
   "execution_count": 87,
   "id": "5a158a05",
   "metadata": {},
   "outputs": [],
   "source": [
    "mat=np.array(my_mat)"
   ]
  },
  {
   "cell_type": "code",
   "execution_count": 88,
   "id": "bb63fdef",
   "metadata": {},
   "outputs": [
    {
     "data": {
      "text/plain": [
       "array([[ 1,  2,  3,  4],\n",
       "       [ 5,  6,  7,  8],\n",
       "       [ 9, 10, 11, 12]])"
      ]
     },
     "execution_count": 88,
     "metadata": {},
     "output_type": "execute_result"
    }
   ],
   "source": [
    "mat"
   ]
  },
  {
   "cell_type": "code",
   "execution_count": 89,
   "id": "8ae972e8",
   "metadata": {},
   "outputs": [
    {
     "name": "stdout",
     "output_type": "stream",
     "text": [
      "\n",
      "double bracket indexing \n",
      "-----------------------------------------\n",
      "element in row index 1and coloumn index 2: 7\n"
     ]
    }
   ],
   "source": [
    "print(\"\\ndouble bracket indexing \\n-----------------------------------------\")\n",
    "print(\"element in row index 1and coloumn index 2:\",mat[1][2])"
   ]
  },
  {
   "cell_type": "code",
   "execution_count": 90,
   "id": "b987d84f",
   "metadata": {},
   "outputs": [
    {
     "name": "stdout",
     "output_type": "stream",
     "text": [
      "\n",
      "double bracket indexing \n",
      "-----------------------------------------\n",
      "element in row index 1and coloumn index 2: 11\n"
     ]
    }
   ],
   "source": [
    "print(\"\\ndouble bracket indexing \\n-----------------------------------------\")\n",
    "print(\"element in row index 1and coloumn index 2:\",mat[2][2])"
   ]
  },
  {
   "cell_type": "code",
   "execution_count": 91,
   "id": "11ded1d0",
   "metadata": {},
   "outputs": [
    {
     "name": "stdout",
     "output_type": "stream",
     "text": [
      "elements in row index 1 and coloumn index 2: 12\n"
     ]
    }
   ],
   "source": [
    "print(\"elements in row index 1 and coloumn index 2:\", mat[2][3])"
   ]
  },
  {
   "cell_type": "code",
   "execution_count": 92,
   "id": "b0a88718",
   "metadata": {},
   "outputs": [
    {
     "data": {
      "text/plain": [
       "array([[ 1,  2,  3,  4],\n",
       "       [ 5,  6,  7,  8],\n",
       "       [ 9, 10, 11, 12]])"
      ]
     },
     "execution_count": 92,
     "metadata": {},
     "output_type": "execute_result"
    }
   ],
   "source": [
    "mat"
   ]
  },
  {
   "cell_type": "code",
   "execution_count": 93,
   "id": "cca0dfe9",
   "metadata": {},
   "outputs": [
    {
     "data": {
      "text/plain": [
       "array([ 9, 10, 11, 12])"
      ]
     },
     "execution_count": 93,
     "metadata": {},
     "output_type": "execute_result"
    }
   ],
   "source": [
    "mat[2]"
   ]
  },
  {
   "cell_type": "code",
   "execution_count": 94,
   "id": "1475d97d",
   "metadata": {},
   "outputs": [
    {
     "data": {
      "text/plain": [
       "array([[ 2,  3,  4],\n",
       "       [ 6,  7,  8],\n",
       "       [10, 11, 12]])"
      ]
     },
     "execution_count": 94,
     "metadata": {},
     "output_type": "execute_result"
    }
   ],
   "source": [
    "mat[:,1:]"
   ]
  },
  {
   "cell_type": "code",
   "execution_count": 95,
   "id": "a8d4ba90",
   "metadata": {},
   "outputs": [
    {
     "data": {
      "text/plain": [
       "array([[ 5,  6,  7,  8],\n",
       "       [ 9, 10, 11, 12]])"
      ]
     },
     "execution_count": 95,
     "metadata": {},
     "output_type": "execute_result"
    }
   ],
   "source": [
    "mat[1:3,:]"
   ]
  },
  {
   "cell_type": "code",
   "execution_count": 96,
   "id": "0faeabe7",
   "metadata": {},
   "outputs": [
    {
     "data": {
      "text/plain": [
       "array([[6]])"
      ]
     },
     "execution_count": 96,
     "metadata": {},
     "output_type": "execute_result"
    }
   ],
   "source": [
    "mat[1:2,1:2]"
   ]
  },
  {
   "cell_type": "code",
   "execution_count": 97,
   "id": "3738436b",
   "metadata": {},
   "outputs": [
    {
     "data": {
      "text/plain": [
       "array([[ 1,  2,  3,  4],\n",
       "       [ 5,  6,  7,  8],\n",
       "       [ 9, 10, 11, 12]])"
      ]
     },
     "execution_count": 97,
     "metadata": {},
     "output_type": "execute_result"
    }
   ],
   "source": [
    "mat"
   ]
  },
  {
   "cell_type": "code",
   "execution_count": 98,
   "id": "cc1c2346",
   "metadata": {},
   "outputs": [
    {
     "data": {
      "text/plain": [
       "array([[2, 3],\n",
       "       [6, 7]])"
      ]
     },
     "execution_count": 98,
     "metadata": {},
     "output_type": "execute_result"
    }
   ],
   "source": [
    "mat[0:2,(1,2)]"
   ]
  },
  {
   "cell_type": "code",
   "execution_count": 99,
   "id": "66ab7161",
   "metadata": {},
   "outputs": [
    {
     "data": {
      "text/plain": [
       "array([[ 7,  8],\n",
       "       [11, 12]])"
      ]
     },
     "execution_count": 99,
     "metadata": {},
     "output_type": "execute_result"
    }
   ],
   "source": [
    "mat[1:3,(2,3)]"
   ]
  },
  {
   "cell_type": "markdown",
   "id": "780ba9e1",
   "metadata": {},
   "source": [
    "# update matrix"
   ]
  },
  {
   "cell_type": "code",
   "execution_count": 100,
   "id": "8d79bded",
   "metadata": {},
   "outputs": [
    {
     "name": "stdout",
     "output_type": "stream",
     "text": [
      "original matrix \n",
      " \n",
      " [[ 1  2  3  4]\n",
      " [ 5  6  7  8]\n",
      " [ 9 10 11 12]]\n"
     ]
    }
   ],
   "source": [
    "print('original matrix \\n \\n',mat)"
   ]
  },
  {
   "cell_type": "code",
   "execution_count": 101,
   "id": "3fe6b7ba",
   "metadata": {},
   "outputs": [],
   "source": [
    "mat[0,1]=40"
   ]
  },
  {
   "cell_type": "code",
   "execution_count": 102,
   "id": "28bb0dd9",
   "metadata": {},
   "outputs": [
    {
     "data": {
      "text/plain": [
       "array([[ 1, 40,  3,  4],\n",
       "       [ 5,  6,  7,  8],\n",
       "       [ 9, 10, 11, 12]])"
      ]
     },
     "execution_count": 102,
     "metadata": {},
     "output_type": "execute_result"
    }
   ],
   "source": [
    "mat"
   ]
  },
  {
   "cell_type": "code",
   "execution_count": 103,
   "id": "905c1dce",
   "metadata": {},
   "outputs": [],
   "source": [
    "mat[1,0]=50"
   ]
  },
  {
   "cell_type": "code",
   "execution_count": 104,
   "id": "e4cd1467",
   "metadata": {},
   "outputs": [
    {
     "data": {
      "text/plain": [
       "array([[ 1, 40,  3,  4],\n",
       "       [50,  6,  7,  8],\n",
       "       [ 9, 10, 11, 12]])"
      ]
     },
     "execution_count": 104,
     "metadata": {},
     "output_type": "execute_result"
    }
   ],
   "source": [
    "mat"
   ]
  },
  {
   "cell_type": "markdown",
   "id": "b2df3d92",
   "metadata": {},
   "source": [
    "# subseting"
   ]
  },
  {
   "cell_type": "code",
   "execution_count": 105,
   "id": "cddf1e90",
   "metadata": {},
   "outputs": [
    {
     "name": "stdout",
     "output_type": "stream",
     "text": [
      "matrix of random 2-digit numbers \n",
      "========================================\n"
     ]
    },
    {
     "data": {
      "text/plain": [
       "(None,\n",
       " array([[86, 86, 37, 50, 48],\n",
       "        [89, 61, 72, 17, 37],\n",
       "        [99, 87, 59, 14, 13]]))"
      ]
     },
     "execution_count": 105,
     "metadata": {},
     "output_type": "execute_result"
    }
   ],
   "source": [
    "mat=np.array(ri(10,100,15)).reshape(3,5)\n",
    "print(\"matrix of random 2-digit numbers \\n========================================\"),mat"
   ]
  },
  {
   "cell_type": "code",
   "execution_count": 106,
   "id": "aadea7b6",
   "metadata": {},
   "outputs": [],
   "source": [
    "abc=mat[mat<70]"
   ]
  },
  {
   "cell_type": "code",
   "execution_count": 107,
   "id": "11792d9e",
   "metadata": {},
   "outputs": [
    {
     "data": {
      "text/plain": [
       "array([37, 50, 48, 61, 17, 37, 59, 14, 13])"
      ]
     },
     "execution_count": 107,
     "metadata": {},
     "output_type": "execute_result"
    }
   ],
   "source": [
    "abc"
   ]
  },
  {
   "cell_type": "code",
   "execution_count": 108,
   "id": "85c80400",
   "metadata": {},
   "outputs": [],
   "source": [
    "abc=mat[mat>70]"
   ]
  },
  {
   "cell_type": "code",
   "execution_count": 109,
   "id": "4426dc6a",
   "metadata": {},
   "outputs": [
    {
     "data": {
      "text/plain": [
       "array([86, 86, 89, 72, 99, 87])"
      ]
     },
     "execution_count": 109,
     "metadata": {},
     "output_type": "execute_result"
    }
   ],
   "source": [
    "abc"
   ]
  },
  {
   "cell_type": "code",
   "execution_count": 110,
   "id": "a2248a0f",
   "metadata": {},
   "outputs": [
    {
     "name": "stdout",
     "output_type": "stream",
     "text": [
      "elements greaterthan 50\n",
      " [86 86 89 61 72 99 87 59]\n"
     ]
    }
   ],
   "source": [
    "print(\"elements greaterthan 50\\n\",mat[mat>50])"
   ]
  },
  {
   "cell_type": "code",
   "execution_count": 111,
   "id": "2751d384",
   "metadata": {},
   "outputs": [
    {
     "data": {
      "text/plain": [
       "array([[ True,  True, False, False, False],\n",
       "       [ True,  True,  True, False, False],\n",
       "       [ True,  True,  True, False, False]])"
      ]
     },
     "execution_count": 111,
     "metadata": {},
     "output_type": "execute_result"
    }
   ],
   "source": [
    "mat>50"
   ]
  },
  {
   "cell_type": "code",
   "execution_count": 112,
   "id": "800457fb",
   "metadata": {},
   "outputs": [
    {
     "name": "stdout",
     "output_type": "stream",
     "text": [
      "(array([], dtype=int64), array([], dtype=int64))\n"
     ]
    }
   ],
   "source": [
    "print(np.where(mat==58))"
   ]
  },
  {
   "cell_type": "markdown",
   "id": "dd6a757b",
   "metadata": {},
   "source": [
    "# UNIVERSAL FUNCTION"
   ]
  },
  {
   "cell_type": "code",
   "execution_count": 113,
   "id": "c28efadc",
   "metadata": {},
   "outputs": [
    {
     "name": "stdout",
     "output_type": "stream",
     "text": [
      "\n",
      " matrix of random single digit numbers\n",
      "==========================================\n",
      " [[1 3 5]\n",
      " [7 2 1]\n",
      " [4 2 3]]\n"
     ]
    }
   ],
   "source": [
    "mat1=np.array(ri(1,10,9)).reshape(3,3)\n",
    "print(\"\\n matrix of random single digit numbers\\n==========================================\\n\",mat1)"
   ]
  },
  {
   "cell_type": "code",
   "execution_count": 114,
   "id": "3750c504",
   "metadata": {},
   "outputs": [
    {
     "name": "stdout",
     "output_type": "stream",
     "text": [
      "\n",
      " matrix of random single digit numbers\n",
      "===============================================\n",
      " [[4 3 6]\n",
      " [3 8 6]\n",
      " [7 6 7]]\n"
     ]
    }
   ],
   "source": [
    "mat2=np.array(ri(1,10,9)).reshape(3,3)\n",
    "print(\"\\n matrix of random single digit numbers\\n===============================================\\n\",mat2)"
   ]
  },
  {
   "cell_type": "code",
   "execution_count": 115,
   "id": "a80dbfb7",
   "metadata": {},
   "outputs": [
    {
     "name": "stdout",
     "output_type": "stream",
     "text": [
      "\n",
      " ADITION\n",
      "====================\n",
      " [[ 5  6 11]\n",
      " [10 10  7]\n",
      " [11  8 10]]\n"
     ]
    }
   ],
   "source": [
    "print(\"\\n ADITION\\n====================\\n\",mat1+mat2)"
   ]
  },
  {
   "cell_type": "code",
   "execution_count": 116,
   "id": "7cd3f60e",
   "metadata": {},
   "outputs": [
    {
     "name": "stdout",
     "output_type": "stream",
     "text": [
      "\n",
      " SUBSTRACTION\n",
      "===============================\n",
      " [[-3  0 -1]\n",
      " [ 4 -6 -5]\n",
      " [-3 -4 -4]]\n"
     ]
    }
   ],
   "source": [
    "print(\"\\n SUBSTRACTION\\n===============================\\n\",mat1-mat2)"
   ]
  },
  {
   "cell_type": "code",
   "execution_count": 117,
   "id": "fc1911aa",
   "metadata": {},
   "outputs": [
    {
     "name": "stdout",
     "output_type": "stream",
     "text": [
      "\n",
      " multiplication \n",
      "============================\n",
      " [[ 4  9 30]\n",
      " [21 16  6]\n",
      " [28 12 21]]\n"
     ]
    }
   ],
   "source": [
    "print(\"\\n multiplication \\n============================\\n\",mat1*mat2)"
   ]
  },
  {
   "cell_type": "code",
   "execution_count": 118,
   "id": "da26faf7",
   "metadata": {},
   "outputs": [
    {
     "name": "stdout",
     "output_type": "stream",
     "text": [
      "\n",
      " DIVISION \n",
      "==================================\n",
      " [[0.25       1.         0.83333333]\n",
      " [2.33333333 0.25       0.16666667]\n",
      " [0.57142857 0.33333333 0.42857143]]\n"
     ]
    }
   ],
   "source": [
    "print(\"\\n DIVISION \\n==================================\\n\",mat1/mat2)"
   ]
  },
  {
   "cell_type": "code",
   "execution_count": 119,
   "id": "7a857cdd",
   "metadata": {},
   "outputs": [
    {
     "name": "stdout",
     "output_type": "stream",
     "text": [
      "\n",
      " LINEAR COMBINATION :3*MAT1-2*MAT2\n",
      "=====================================================\n",
      " [[ -5   3   3]\n",
      " [ 15 -10  -9]\n",
      " [ -2  -6  -5]]\n"
     ]
    }
   ],
   "source": [
    "print(\"\\n LINEAR COMBINATION :3*MAT1-2*MAT2\\n=====================================================\\n\",3*mat1-2*mat2)"
   ]
  },
  {
   "cell_type": "markdown",
   "id": "705dfc1f",
   "metadata": {},
   "source": [
    "# BROADCASTING"
   ]
  },
  {
   "cell_type": "code",
   "execution_count": 123,
   "id": "df7dd934",
   "metadata": {},
   "outputs": [],
   "source": [
    "start=np.zeros((3,3))"
   ]
  },
  {
   "cell_type": "code",
   "execution_count": 139,
   "id": "00f2ca46",
   "metadata": {},
   "outputs": [
    {
     "name": "stdout",
     "output_type": "stream",
     "text": [
      "[[0. 0. 0.]\n",
      " [0. 0. 0.]\n",
      " [0. 0. 0.]]\n"
     ]
    }
   ],
   "source": [
    "print(start)"
   ]
  },
  {
   "cell_type": "code",
   "execution_count": 153,
   "id": "b1a96959",
   "metadata": {},
   "outputs": [],
   "source": [
    "# create a rank 1 ndarray with 3 values\n",
    "add_rows=np.array([[[1,0,2]]])"
   ]
  },
  {
   "cell_type": "code",
   "execution_count": 154,
   "id": "829af1ce",
   "metadata": {},
   "outputs": [
    {
     "name": "stdout",
     "output_type": "stream",
     "text": [
      "[[[1 0 2]]]\n"
     ]
    }
   ],
   "source": [
    "print(add_rows)"
   ]
  },
  {
   "cell_type": "code",
   "execution_count": 155,
   "id": "3b0edd7b",
   "metadata": {},
   "outputs": [],
   "source": [
    "y=start+add_rows    # add to each row of 'start' using with broadcasting"
   ]
  },
  {
   "cell_type": "code",
   "execution_count": 156,
   "id": "2a101043",
   "metadata": {},
   "outputs": [
    {
     "name": "stdout",
     "output_type": "stream",
     "text": [
      "[[[1. 0. 2.]\n",
      "  [1. 0. 2.]\n",
      "  [1. 0. 2.]]]\n"
     ]
    }
   ],
   "source": [
    "print(y)"
   ]
  },
  {
   "cell_type": "code",
   "execution_count": 157,
   "id": "0e08ec3f",
   "metadata": {},
   "outputs": [],
   "source": [
    "y= start+add_rows.T"
   ]
  },
  {
   "cell_type": "code",
   "execution_count": 158,
   "id": "7c9277d8",
   "metadata": {},
   "outputs": [
    {
     "name": "stdout",
     "output_type": "stream",
     "text": [
      "[[[1. 1. 1.]\n",
      "  [1. 1. 1.]\n",
      "  [1. 1. 1.]]\n",
      "\n",
      " [[0. 0. 0.]\n",
      "  [0. 0. 0.]\n",
      "  [0. 0. 0.]]\n",
      "\n",
      " [[2. 2. 2.]\n",
      "  [2. 2. 2.]\n",
      "  [2. 2. 2.]]]\n"
     ]
    }
   ],
   "source": [
    "print(y)"
   ]
  },
  {
   "cell_type": "code",
   "execution_count": 159,
   "id": "5bd2a391",
   "metadata": {},
   "outputs": [],
   "source": [
    "z=add_rows.T"
   ]
  },
  {
   "cell_type": "code",
   "execution_count": 160,
   "id": "f6419652",
   "metadata": {},
   "outputs": [
    {
     "data": {
      "text/plain": [
       "array([[[1]],\n",
       "\n",
       "       [[0]],\n",
       "\n",
       "       [[2]]])"
      ]
     },
     "execution_count": 160,
     "metadata": {},
     "output_type": "execute_result"
    }
   ],
   "source": [
    "z"
   ]
  },
  {
   "cell_type": "code",
   "execution_count": 163,
   "id": "5a60f054",
   "metadata": {},
   "outputs": [],
   "source": [
    "add_cols=np.array([[0,1,2,3]])"
   ]
  },
  {
   "cell_type": "code",
   "execution_count": 164,
   "id": "8735d89b",
   "metadata": {},
   "outputs": [
    {
     "name": "stdout",
     "output_type": "stream",
     "text": [
      "[[0 1 2 3]]\n"
     ]
    }
   ],
   "source": [
    "print(add_cols)"
   ]
  },
  {
   "cell_type": "code",
   "execution_count": 165,
   "id": "65c55078",
   "metadata": {},
   "outputs": [],
   "source": [
    "add_cols=add_cols.T"
   ]
  },
  {
   "cell_type": "code",
   "execution_count": 166,
   "id": "b03565de",
   "metadata": {},
   "outputs": [
    {
     "name": "stdout",
     "output_type": "stream",
     "text": [
      "[[0]\n",
      " [1]\n",
      " [2]\n",
      " [3]]\n"
     ]
    }
   ],
   "source": [
    "print(add_cols)"
   ]
  },
  {
   "cell_type": "markdown",
   "id": "5f0ea1bd",
   "metadata": {},
   "source": [
    "# ARRAY MATH"
   ]
  },
  {
   "cell_type": "code",
   "execution_count": 167,
   "id": "7141a7c8",
   "metadata": {},
   "outputs": [
    {
     "data": {
      "text/plain": [
       "array([[1, 3, 5],\n",
       "       [7, 2, 1],\n",
       "       [4, 2, 3]])"
      ]
     },
     "execution_count": 167,
     "metadata": {},
     "output_type": "execute_result"
    }
   ],
   "source": [
    "mat1"
   ]
  },
  {
   "cell_type": "code",
   "execution_count": 168,
   "id": "a9a5c90a",
   "metadata": {},
   "outputs": [
    {
     "name": "stdout",
     "output_type": "stream",
     "text": [
      "\n",
      " sqrt of the 1st matrix  using np\n",
      "=================================================\n",
      " [[1.         1.73205081 2.23606798]\n",
      " [2.64575131 1.41421356 1.        ]\n",
      " [2.         1.41421356 1.73205081]]\n"
     ]
    }
   ],
   "source": [
    "print(\"\\n sqrt of the 1st matrix  using np\\n=================================================\\n\",np.sqrt(mat1))"
   ]
  },
  {
   "cell_type": "code",
   "execution_count": 169,
   "id": "c66c8c58",
   "metadata": {},
   "outputs": [
    {
     "name": "stdout",
     "output_type": "stream",
     "text": [
      "\n",
      " square of the 1st mstrix using np\n",
      "==================================================\n",
      " [[ 1  9 25]\n",
      " [49  4  1]\n",
      " [16  4  9]]\n"
     ]
    }
   ],
   "source": [
    "print(\"\\n square of the 1st mstrix using np\\n==================================================\\n\",np.square(mat1))"
   ]
  },
  {
   "cell_type": "code",
   "execution_count": null,
   "id": "ffcaaa66",
   "metadata": {},
   "outputs": [],
   "source": []
  },
  {
   "cell_type": "code",
   "execution_count": null,
   "id": "90e337ce",
   "metadata": {},
   "outputs": [],
   "source": []
  },
  {
   "cell_type": "code",
   "execution_count": null,
   "id": "67e2ba4f",
   "metadata": {},
   "outputs": [],
   "source": []
  },
  {
   "cell_type": "code",
   "execution_count": null,
   "id": "6017b882",
   "metadata": {},
   "outputs": [],
   "source": []
  }
 ],
 "metadata": {
  "kernelspec": {
   "display_name": "Python 3 (ipykernel)",
   "language": "python",
   "name": "python3"
  },
  "language_info": {
   "codemirror_mode": {
    "name": "ipython",
    "version": 3
   },
   "file_extension": ".py",
   "mimetype": "text/x-python",
   "name": "python",
   "nbconvert_exporter": "python",
   "pygments_lexer": "ipython3",
   "version": "3.9.7"
  }
 },
 "nbformat": 4,
 "nbformat_minor": 5
}
